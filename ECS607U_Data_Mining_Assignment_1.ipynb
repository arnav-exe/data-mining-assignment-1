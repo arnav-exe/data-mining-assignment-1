{
  "nbformat": 4,
  "nbformat_minor": 0,
  "metadata": {
    "colab": {
      "provenance": [],
      "authorship_tag": "ABX9TyP9zzUR3cVQmNoy2BMS78oP",
      "include_colab_link": true
    },
    "kernelspec": {
      "name": "python3",
      "display_name": "Python 3"
    },
    "language_info": {
      "name": "python"
    }
  },
  "cells": [
    {
      "cell_type": "markdown",
      "metadata": {
        "id": "view-in-github",
        "colab_type": "text"
      },
      "source": [
        "<a href=\"https://colab.research.google.com/github/arnav-exe/data-mining-assignment-1/blob/main/ECS607U_Data_Mining_Assignment_1.ipynb\" target=\"_parent\"><img src=\"https://colab.research.google.com/assets/colab-badge.svg\" alt=\"Open In Colab\"/></a>"
      ]
    },
    {
      "cell_type": "code",
      "execution_count": null,
      "metadata": {
        "id": "D_1MZS4DBsqq"
      },
      "outputs": [],
      "source": [
        "from sklearn.datasets import load_wine\n",
        "import pandas as pd"
      ]
    },
    {
      "cell_type": "code",
      "source": [
        "data = load_wine()\n",
        "df = pd.DataFrame(data.data, columns=data.feature_names)\n",
        "df['target'] = pd.Series(data.target)"
      ],
      "metadata": {
        "id": "qaSCX2mOCDMT"
      },
      "execution_count": null,
      "outputs": []
    },
    {
      "cell_type": "code",
      "source": [
        "print(df.dtypes)"
      ],
      "metadata": {
        "colab": {
          "base_uri": "https://localhost:8080/"
        },
        "id": "MQk4kS31CSkO",
        "outputId": "a68d7954-5aa0-4cce-b05c-14452037236e"
      },
      "execution_count": 13,
      "outputs": [
        {
          "output_type": "stream",
          "name": "stdout",
          "text": [
            "alcohol                         float64\n",
            "malic_acid                      float64\n",
            "ash                             float64\n",
            "alcalinity_of_ash               float64\n",
            "magnesium                       float64\n",
            "total_phenols                   float64\n",
            "flavanoids                      float64\n",
            "nonflavanoid_phenols            float64\n",
            "proanthocyanins                 float64\n",
            "color_intensity                 float64\n",
            "hue                             float64\n",
            "od280/od315_of_diluted_wines    float64\n",
            "proline                         float64\n",
            "target                            int64\n",
            "dtype: object\n"
          ]
        }
      ]
    }
  ]
}