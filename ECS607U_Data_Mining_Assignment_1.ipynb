{
  "nbformat": 4,
  "nbformat_minor": 0,
  "metadata": {
    "colab": {
      "provenance": [],
      "authorship_tag": "ABX9TyOMocx0wXlaBpnBEk+PZCwb",
      "include_colab_link": true
    },
    "kernelspec": {
      "name": "python3",
      "display_name": "Python 3"
    },
    "language_info": {
      "name": "python"
    }
  },
  "cells": [
    {
      "cell_type": "markdown",
      "metadata": {
        "id": "view-in-github",
        "colab_type": "text"
      },
      "source": [
        "<a href=\"https://colab.research.google.com/github/arnav-exe/data-mining-assignment-1/blob/main/ECS607U_Data_Mining_Assignment_1.ipynb\" target=\"_parent\"><img src=\"https://colab.research.google.com/assets/colab-badge.svg\" alt=\"Open In Colab\"/></a>"
      ]
    },
    {
      "cell_type": "code",
      "execution_count": 1,
      "metadata": {
        "id": "D_1MZS4DBsqq"
      },
      "outputs": [],
      "source": [
        "from sklearn.datasets import load_wine\n",
        "import pandas as pd"
      ]
    },
    {
      "cell_type": "code",
      "source": [
        "data = load_wine()\n",
        "df = pd.DataFrame(data.data, columns=data.feature_names)\n",
        "df['target'] = pd.Series(data.target)"
      ],
      "metadata": {
        "id": "qaSCX2mOCDMT"
      },
      "execution_count": 2,
      "outputs": []
    },
    {
      "cell_type": "code",
      "source": [
        "print(df.dtypes)"
      ],
      "metadata": {
        "colab": {
          "base_uri": "https://localhost:8080/"
        },
        "id": "MQk4kS31CSkO",
        "outputId": "8ccc89bc-a0f2-4e87-987e-6c33bb100fac"
      },
      "execution_count": 9,
      "outputs": [
        {
          "output_type": "stream",
          "name": "stdout",
          "text": [
            "alcohol                         float64\n",
            "malic_acid                      float64\n",
            "ash                             float64\n",
            "alcalinity_of_ash               float64\n",
            "magnesium                       float64\n",
            "total_phenols                   float64\n",
            "flavanoids                      float64\n",
            "nonflavanoid_phenols            float64\n",
            "proanthocyanins                 float64\n",
            "color_intensity                 float64\n",
            "hue                             float64\n",
            "od280/od315_of_diluted_wines    float64\n",
            "proline                         float64\n",
            "target                            int64\n",
            "dtype: object\n"
          ]
        }
      ]
    },
    {
      "cell_type": "code",
      "source": [
        "print(df[0:10]);"
      ],
      "metadata": {
        "id": "XCU3eyfiWtnS",
        "outputId": "d8c12e40-157b-440c-c245-89278cec8a15",
        "colab": {
          "base_uri": "https://localhost:8080/"
        }
      },
      "execution_count": 14,
      "outputs": [
        {
          "output_type": "stream",
          "name": "stdout",
          "text": [
            "   alcohol  malic_acid   ash  alcalinity_of_ash  magnesium  total_phenols  \\\n",
            "0    14.23        1.71  2.43               15.6      127.0           2.80   \n",
            "1    13.20        1.78  2.14               11.2      100.0           2.65   \n",
            "2    13.16        2.36  2.67               18.6      101.0           2.80   \n",
            "3    14.37        1.95  2.50               16.8      113.0           3.85   \n",
            "4    13.24        2.59  2.87               21.0      118.0           2.80   \n",
            "5    14.20        1.76  2.45               15.2      112.0           3.27   \n",
            "6    14.39        1.87  2.45               14.6       96.0           2.50   \n",
            "7    14.06        2.15  2.61               17.6      121.0           2.60   \n",
            "8    14.83        1.64  2.17               14.0       97.0           2.80   \n",
            "9    13.86        1.35  2.27               16.0       98.0           2.98   \n",
            "\n",
            "   flavanoids  nonflavanoid_phenols  proanthocyanins  color_intensity   hue  \\\n",
            "0        3.06                  0.28             2.29             5.64  1.04   \n",
            "1        2.76                  0.26             1.28             4.38  1.05   \n",
            "2        3.24                  0.30             2.81             5.68  1.03   \n",
            "3        3.49                  0.24             2.18             7.80  0.86   \n",
            "4        2.69                  0.39             1.82             4.32  1.04   \n",
            "5        3.39                  0.34             1.97             6.75  1.05   \n",
            "6        2.52                  0.30             1.98             5.25  1.02   \n",
            "7        2.51                  0.31             1.25             5.05  1.06   \n",
            "8        2.98                  0.29             1.98             5.20  1.08   \n",
            "9        3.15                  0.22             1.85             7.22  1.01   \n",
            "\n",
            "   od280/od315_of_diluted_wines  proline  target  \n",
            "0                          3.92   1065.0       0  \n",
            "1                          3.40   1050.0       0  \n",
            "2                          3.17   1185.0       0  \n",
            "3                          3.45   1480.0       0  \n",
            "4                          2.93    735.0       0  \n",
            "5                          2.85   1450.0       0  \n",
            "6                          3.58   1290.0       0  \n",
            "7                          3.58   1295.0       0  \n",
            "8                          2.85   1045.0       0  \n",
            "9                          3.55   1045.0       0  \n"
          ]
        }
      ]
    },
    {
      "cell_type": "markdown",
      "source": [
        "The feature \"target\" is the only categorical feature, as it ranges from 0-2 throughout the dataset"
      ],
      "metadata": {
        "id": "vTTxMJTlZwzX"
      }
    }
  ]
}