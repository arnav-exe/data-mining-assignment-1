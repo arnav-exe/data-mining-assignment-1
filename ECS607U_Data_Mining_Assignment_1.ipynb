{
  "nbformat": 4,
  "nbformat_minor": 0,
  "metadata": {
    "colab": {
      "provenance": [],
      "authorship_tag": "ABX9TyPBbtuvvdzeusCxCGqLqjZa",
      "include_colab_link": true
    },
    "kernelspec": {
      "name": "python3",
      "display_name": "Python 3"
    },
    "language_info": {
      "name": "python"
    }
  },
  "cells": [
    {
      "cell_type": "markdown",
      "metadata": {
        "id": "view-in-github",
        "colab_type": "text"
      },
      "source": [
        "<a href=\"https://colab.research.google.com/github/arnav-exe/data-mining-assignment-1/blob/main/ECS607U_Data_Mining_Assignment_1.ipynb\" target=\"_parent\"><img src=\"https://colab.research.google.com/assets/colab-badge.svg\" alt=\"Open In Colab\"/></a>"
      ]
    },
    {
      "cell_type": "code",
      "execution_count": 2,
      "metadata": {
        "id": "D_1MZS4DBsqq"
      },
      "outputs": [],
      "source": [
        "from sklearn.datasets import load_wine\n",
        "import pandas as pd"
      ]
    },
    {
      "cell_type": "code",
      "source": [
        "data = load_wine()\n",
        "df = pd.DataFrame(data.data, columns=data.feature_names)\n",
        "df['target'] = pd.Series(data.target)"
      ],
      "metadata": {
        "id": "qaSCX2mOCDMT"
      },
      "execution_count": 3,
      "outputs": []
    },
    {
      "cell_type": "code",
      "source": [
        "print(df.dtypes)"
      ],
      "metadata": {
        "colab": {
          "base_uri": "https://localhost:8080/"
        },
        "id": "MQk4kS31CSkO",
        "outputId": "b3240bbf-2d8e-4170-e000-c5adbc4853e8"
      },
      "execution_count": 4,
      "outputs": [
        {
          "output_type": "stream",
          "name": "stdout",
          "text": [
            "alcohol                         float64\n",
            "malic_acid                      float64\n",
            "ash                             float64\n",
            "alcalinity_of_ash               float64\n",
            "magnesium                       float64\n",
            "total_phenols                   float64\n",
            "flavanoids                      float64\n",
            "nonflavanoid_phenols            float64\n",
            "proanthocyanins                 float64\n",
            "color_intensity                 float64\n",
            "hue                             float64\n",
            "od280/od315_of_diluted_wines    float64\n",
            "proline                         float64\n",
            "target                            int64\n",
            "dtype: object\n"
          ]
        }
      ]
    },
    {
      "cell_type": "code",
      "source": [
        "print(df[0:10]);"
      ],
      "metadata": {
        "id": "XCU3eyfiWtnS"
      },
      "execution_count": null,
      "outputs": []
    },
    {
      "cell_type": "code",
      "source": [
        "df._get_numeric_data().columns"
      ],
      "metadata": {
        "id": "1pm5CuWTXr4k",
        "outputId": "5c9d159b-5a55-4bfa-c243-b956b384269d",
        "colab": {
          "base_uri": "https://localhost:8080/"
        }
      },
      "execution_count": 11,
      "outputs": [
        {
          "output_type": "execute_result",
          "data": {
            "text/plain": [
              "Index(['alcohol', 'malic_acid', 'ash', 'alcalinity_of_ash', 'magnesium',\n",
              "       'total_phenols', 'flavanoids', 'nonflavanoid_phenols',\n",
              "       'proanthocyanins', 'color_intensity', 'hue',\n",
              "       'od280/od315_of_diluted_wines', 'proline', 'target'],\n",
              "      dtype='object')"
            ]
          },
          "metadata": {},
          "execution_count": 11
        }
      ]
    }
  ]
}